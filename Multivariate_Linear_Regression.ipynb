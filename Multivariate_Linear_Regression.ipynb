{
 "cells": [
  {
   "cell_type": "markdown",
   "metadata": {},
   "source": [
    "## Importing the libraries"
   ]
  },
  {
   "cell_type": "code",
   "execution_count": 1,
   "metadata": {},
   "outputs": [],
   "source": [
    "import numpy as np\n",
    "import pandas as pd\n",
    "import matplotlib.pyplot as plt\n",
    "import seaborn as sns\n",
    "import sklearn\n",
    "from math import sqrt "
   ]
  },
  {
   "cell_type": "markdown",
   "metadata": {},
   "source": [
    "### Loading the dataset"
   ]
  },
  {
   "cell_type": "code",
   "execution_count": 2,
   "metadata": {},
   "outputs": [],
   "source": [
    "df = pd.read_csv('house_price_prediction.csv')"
   ]
  },
  {
   "cell_type": "code",
   "execution_count": 3,
   "metadata": {},
   "outputs": [
    {
     "data": {
      "text/html": [
       "<div>\n",
       "<style scoped>\n",
       "    .dataframe tbody tr th:only-of-type {\n",
       "        vertical-align: middle;\n",
       "    }\n",
       "\n",
       "    .dataframe tbody tr th {\n",
       "        vertical-align: top;\n",
       "    }\n",
       "\n",
       "    .dataframe thead th {\n",
       "        text-align: right;\n",
       "    }\n",
       "</style>\n",
       "<table border=\"1\" class=\"dataframe\">\n",
       "  <thead>\n",
       "    <tr style=\"text-align: right;\">\n",
       "      <th></th>\n",
       "      <th>X_0</th>\n",
       "      <th>avg_income</th>\n",
       "      <th>avg_area_house_age</th>\n",
       "      <th>avg_area_num_rooms</th>\n",
       "      <th>avg_population</th>\n",
       "      <th>price</th>\n",
       "    </tr>\n",
       "  </thead>\n",
       "  <tbody>\n",
       "    <tr>\n",
       "      <th>0</th>\n",
       "      <td>1</td>\n",
       "      <td>79545.45857</td>\n",
       "      <td>5.682861</td>\n",
       "      <td>7.009188</td>\n",
       "      <td>23086.80050</td>\n",
       "      <td>1.059034e+06</td>\n",
       "    </tr>\n",
       "    <tr>\n",
       "      <th>1</th>\n",
       "      <td>1</td>\n",
       "      <td>79248.64245</td>\n",
       "      <td>6.002900</td>\n",
       "      <td>6.730821</td>\n",
       "      <td>40173.07217</td>\n",
       "      <td>1.505891e+06</td>\n",
       "    </tr>\n",
       "    <tr>\n",
       "      <th>2</th>\n",
       "      <td>1</td>\n",
       "      <td>61287.06718</td>\n",
       "      <td>5.865890</td>\n",
       "      <td>8.512727</td>\n",
       "      <td>36882.15940</td>\n",
       "      <td>1.058988e+06</td>\n",
       "    </tr>\n",
       "    <tr>\n",
       "      <th>3</th>\n",
       "      <td>1</td>\n",
       "      <td>63345.24005</td>\n",
       "      <td>7.188236</td>\n",
       "      <td>5.586729</td>\n",
       "      <td>34310.24283</td>\n",
       "      <td>1.260617e+06</td>\n",
       "    </tr>\n",
       "    <tr>\n",
       "      <th>4</th>\n",
       "      <td>1</td>\n",
       "      <td>59982.19723</td>\n",
       "      <td>5.040555</td>\n",
       "      <td>7.839388</td>\n",
       "      <td>26354.10947</td>\n",
       "      <td>6.309435e+05</td>\n",
       "    </tr>\n",
       "  </tbody>\n",
       "</table>\n",
       "</div>"
      ],
      "text/plain": [
       "   X_0   avg_income  avg_area_house_age  avg_area_num_rooms  avg_population  \\\n",
       "0    1  79545.45857            5.682861            7.009188     23086.80050   \n",
       "1    1  79248.64245            6.002900            6.730821     40173.07217   \n",
       "2    1  61287.06718            5.865890            8.512727     36882.15940   \n",
       "3    1  63345.24005            7.188236            5.586729     34310.24283   \n",
       "4    1  59982.19723            5.040555            7.839388     26354.10947   \n",
       "\n",
       "          price  \n",
       "0  1.059034e+06  \n",
       "1  1.505891e+06  \n",
       "2  1.058988e+06  \n",
       "3  1.260617e+06  \n",
       "4  6.309435e+05  "
      ]
     },
     "execution_count": 3,
     "metadata": {},
     "output_type": "execute_result"
    }
   ],
   "source": [
    "df.head(5)"
   ]
  },
  {
   "cell_type": "code",
   "execution_count": 4,
   "metadata": {},
   "outputs": [
    {
     "data": {
      "text/html": [
       "<div>\n",
       "<style scoped>\n",
       "    .dataframe tbody tr th:only-of-type {\n",
       "        vertical-align: middle;\n",
       "    }\n",
       "\n",
       "    .dataframe tbody tr th {\n",
       "        vertical-align: top;\n",
       "    }\n",
       "\n",
       "    .dataframe thead th {\n",
       "        text-align: right;\n",
       "    }\n",
       "</style>\n",
       "<table border=\"1\" class=\"dataframe\">\n",
       "  <thead>\n",
       "    <tr style=\"text-align: right;\">\n",
       "      <th></th>\n",
       "      <th>X_0</th>\n",
       "      <th>avg_income</th>\n",
       "      <th>avg_area_house_age</th>\n",
       "      <th>avg_area_num_rooms</th>\n",
       "      <th>avg_population</th>\n",
       "      <th>price</th>\n",
       "    </tr>\n",
       "  </thead>\n",
       "  <tbody>\n",
       "    <tr>\n",
       "      <th>count</th>\n",
       "      <td>5012.0</td>\n",
       "      <td>5009.000000</td>\n",
       "      <td>5010.000000</td>\n",
       "      <td>5011.000000</td>\n",
       "      <td>5009.000000</td>\n",
       "      <td>5.012000e+03</td>\n",
       "    </tr>\n",
       "    <tr>\n",
       "      <th>mean</th>\n",
       "      <td>1.0</td>\n",
       "      <td>68577.804938</td>\n",
       "      <td>5.977508</td>\n",
       "      <td>6.987906</td>\n",
       "      <td>36155.832559</td>\n",
       "      <td>1.231947e+06</td>\n",
       "    </tr>\n",
       "    <tr>\n",
       "      <th>std</th>\n",
       "      <td>0.0</td>\n",
       "      <td>10661.033166</td>\n",
       "      <td>0.991472</td>\n",
       "      <td>1.006453</td>\n",
       "      <td>9928.823462</td>\n",
       "      <td>3.529525e+05</td>\n",
       "    </tr>\n",
       "    <tr>\n",
       "      <th>min</th>\n",
       "      <td>1.0</td>\n",
       "      <td>17796.631190</td>\n",
       "      <td>2.644304</td>\n",
       "      <td>3.236194</td>\n",
       "      <td>172.610686</td>\n",
       "      <td>1.593866e+04</td>\n",
       "    </tr>\n",
       "    <tr>\n",
       "      <th>25%</th>\n",
       "      <td>1.0</td>\n",
       "      <td>61482.244790</td>\n",
       "      <td>5.322274</td>\n",
       "      <td>6.298437</td>\n",
       "      <td>29403.512060</td>\n",
       "      <td>9.981375e+05</td>\n",
       "    </tr>\n",
       "    <tr>\n",
       "      <th>50%</th>\n",
       "      <td>1.0</td>\n",
       "      <td>68814.925610</td>\n",
       "      <td>5.969828</td>\n",
       "      <td>7.003188</td>\n",
       "      <td>36183.287800</td>\n",
       "      <td>1.232983e+06</td>\n",
       "    </tr>\n",
       "    <tr>\n",
       "      <th>75%</th>\n",
       "      <td>1.0</td>\n",
       "      <td>75780.621120</td>\n",
       "      <td>6.652302</td>\n",
       "      <td>7.667048</td>\n",
       "      <td>42841.741620</td>\n",
       "      <td>1.471756e+06</td>\n",
       "    </tr>\n",
       "    <tr>\n",
       "      <th>max</th>\n",
       "      <td>1.0</td>\n",
       "      <td>107701.748400</td>\n",
       "      <td>9.519088</td>\n",
       "      <td>10.759588</td>\n",
       "      <td>69621.713380</td>\n",
       "      <td>2.469066e+06</td>\n",
       "    </tr>\n",
       "  </tbody>\n",
       "</table>\n",
       "</div>"
      ],
      "text/plain": [
       "          X_0     avg_income  avg_area_house_age  avg_area_num_rooms  \\\n",
       "count  5012.0    5009.000000         5010.000000         5011.000000   \n",
       "mean      1.0   68577.804938            5.977508            6.987906   \n",
       "std       0.0   10661.033166            0.991472            1.006453   \n",
       "min       1.0   17796.631190            2.644304            3.236194   \n",
       "25%       1.0   61482.244790            5.322274            6.298437   \n",
       "50%       1.0   68814.925610            5.969828            7.003188   \n",
       "75%       1.0   75780.621120            6.652302            7.667048   \n",
       "max       1.0  107701.748400            9.519088           10.759588   \n",
       "\n",
       "       avg_population         price  \n",
       "count     5009.000000  5.012000e+03  \n",
       "mean     36155.832559  1.231947e+06  \n",
       "std       9928.823462  3.529525e+05  \n",
       "min        172.610686  1.593866e+04  \n",
       "25%      29403.512060  9.981375e+05  \n",
       "50%      36183.287800  1.232983e+06  \n",
       "75%      42841.741620  1.471756e+06  \n",
       "max      69621.713380  2.469066e+06  "
      ]
     },
     "execution_count": 4,
     "metadata": {},
     "output_type": "execute_result"
    }
   ],
   "source": [
    "df.describe()"
   ]
  },
  {
   "cell_type": "code",
   "execution_count": 5,
   "metadata": {},
   "outputs": [
    {
     "name": "stdout",
     "output_type": "stream",
     "text": [
      "<class 'pandas.core.frame.DataFrame'>\n",
      "RangeIndex: 5012 entries, 0 to 5011\n",
      "Data columns (total 6 columns):\n",
      " #   Column              Non-Null Count  Dtype  \n",
      "---  ------              --------------  -----  \n",
      " 0   X_0                 5012 non-null   int64  \n",
      " 1   avg_income          5009 non-null   float64\n",
      " 2   avg_area_house_age  5010 non-null   float64\n",
      " 3   avg_area_num_rooms  5011 non-null   float64\n",
      " 4   avg_population      5009 non-null   float64\n",
      " 5   price               5012 non-null   float64\n",
      "dtypes: float64(5), int64(1)\n",
      "memory usage: 235.1 KB\n"
     ]
    }
   ],
   "source": [
    "df.info()"
   ]
  },
  {
   "cell_type": "markdown",
   "metadata": {},
   "source": [
    "### Some rows of features contain null values. This may affect the performance of the model. Therefore we drop the samples containing null values."
   ]
  },
  {
   "cell_type": "code",
   "execution_count": 6,
   "metadata": {},
   "outputs": [],
   "source": [
    "df = df.dropna()"
   ]
  },
  {
   "cell_type": "code",
   "execution_count": 7,
   "metadata": {},
   "outputs": [
    {
     "name": "stdout",
     "output_type": "stream",
     "text": [
      "<class 'pandas.core.frame.DataFrame'>\n",
      "Int64Index: 5005 entries, 0 to 5011\n",
      "Data columns (total 6 columns):\n",
      " #   Column              Non-Null Count  Dtype  \n",
      "---  ------              --------------  -----  \n",
      " 0   X_0                 5005 non-null   int64  \n",
      " 1   avg_income          5005 non-null   float64\n",
      " 2   avg_area_house_age  5005 non-null   float64\n",
      " 3   avg_area_num_rooms  5005 non-null   float64\n",
      " 4   avg_population      5005 non-null   float64\n",
      " 5   price               5005 non-null   float64\n",
      "dtypes: float64(5), int64(1)\n",
      "memory usage: 273.7 KB\n"
     ]
    }
   ],
   "source": [
    "df.info()"
   ]
  },
  {
   "cell_type": "markdown",
   "metadata": {},
   "source": [
    "## Feature scaling\n",
    "### Scaling down features to the same range for better performance and reduce computations  using mean square normalization."
   ]
  },
  {
   "cell_type": "code",
   "execution_count": 8,
   "metadata": {},
   "outputs": [],
   "source": [
    "scaled_df = (df - df.mean()) / df.std()"
   ]
  },
  {
   "cell_type": "markdown",
   "metadata": {},
   "source": [
    "## Data visualization"
   ]
  },
  {
   "cell_type": "code",
   "execution_count": 9,
   "metadata": {},
   "outputs": [
    {
     "data": {
      "image/png": "[encoded data removed]",
      "text/plain": [
       "<Figure size 432x288 with 1 Axes>"
      ]
     },
     "metadata": {
      "needs_background": "light"
     },
     "output_type": "display_data"
    }
   ],
   "source": [
    "plt.scatter(scaled_df['avg_income'],scaled_df['price'])\n",
    "plt.xlabel(\"Average income\")\n",
    "plt.ylabel(\"Price\")\n",
    "plt.title(\"Average income v/s Price\")\n",
    "plt.show()"
   ]
  },
  {
   "cell_type": "code",
   "execution_count": 10,
   "metadata": {},
   "outputs": [
    {
     "data": {
      "image/png": "[encoded data removed]",
      "text/plain": [
       "<Figure size 432x288 with 1 Axes>"
      ]
     },
     "metadata": {
      "needs_background": "light"
     },
     "output_type": "display_data"
    }
   ],
   "source": [
    "plt.scatter(scaled_df['avg_area_house_age'],scaled_df['price'])\n",
    "plt.xlabel(\"Average House age\")\n",
    "plt.ylabel(\"Price\")\n",
    "plt.title(\"Average house age v/s Price\")\n",
    "plt.show()"
   ]
  },
  {
   "cell_type": "code",
   "execution_count": 11,
   "metadata": {},
   "outputs": [
    {
     "data": {
      "image/png": "[encoded data removed]",
      "text/plain": [
       "<Figure size 432x288 with 1 Axes>"
      ]
     },
     "metadata": {
      "needs_background": "light"
     },
     "output_type": "display_data"
    }
   ],
   "source": [
    "plt.scatter(scaled_df['avg_area_num_rooms'],scaled_df['price'])\n",
    "plt.xlabel(\"Average No of Rooms\")\n",
    "plt.ylabel(\"Price\")\n",
    "plt.title(\"Average No of Rooms v/s Price\")\n",
    "plt.show()"
   ]
  },
  {
   "cell_type": "code",
   "execution_count": 12,
   "metadata": {},
   "outputs": [
    {
     "data": {
      "image/png": "[encoded data removed]",
      "text/plain": [
       "<Figure size 432x288 with 1 Axes>"
      ]
     },
     "metadata": {
      "needs_background": "light"
     },
     "output_type": "display_data"
    }
   ],
   "source": [
    "plt.scatter(scaled_df['avg_population'],scaled_df['price'])\n",
    "plt.xlabel(\"Population\")\n",
    "plt.ylabel(\"Price\")\n",
    "plt.title(\"Population v/s Price\")\n",
    "plt.show()"
   ]
  },
  {
   "cell_type": "code",
   "execution_count": 13,
   "metadata": {},
   "outputs": [
    {
     "name": "stderr",
     "output_type": "stream",
     "text": [
      "C:\\Users\\Windows\\anaconda3\\lib\\site-packages\\pandas\\io\\formats\\style.py:1264: RuntimeWarning: All-NaN slice encountered\n",
      "  smin = np.nanmin(s.to_numpy()) if vmin is None else vmin\n",
      "C:\\Users\\Windows\\anaconda3\\lib\\site-packages\\pandas\\io\\formats\\style.py:1265: RuntimeWarning: All-NaN slice encountered\n",
      "  smax = np.nanmax(s.to_numpy()) if vmax is None else vmax\n"
     ]
    },
    {
     "data": {
      "text/html": [
       "<style  type=\"text/css\" >\n",
       "#T_242f7_row0_col0,#T_242f7_row0_col1,#T_242f7_row0_col2,#T_242f7_row0_col3,#T_242f7_row0_col4,#T_242f7_row0_col5,#T_242f7_row1_col0,#T_242f7_row2_col0,#T_242f7_row3_col0,#T_242f7_row4_col0,#T_242f7_row5_col0{\n",
       "            background-color:  #000000;\n",
       "            color:  #f1f1f1;\n",
       "        }#T_242f7_row1_col1,#T_242f7_row2_col2,#T_242f7_row3_col3,#T_242f7_row4_col4,#T_242f7_row5_col5{\n",
       "            background-color:  #b40426;\n",
       "            color:  #f1f1f1;\n",
       "        }#T_242f7_row1_col2{\n",
       "            background-color:  #3f53c6;\n",
       "            color:  #f1f1f1;\n",
       "        }#T_242f7_row1_col3,#T_242f7_row1_col4,#T_242f7_row2_col3,#T_242f7_row2_col4,#T_242f7_row3_col5,#T_242f7_row4_col1,#T_242f7_row4_col2{\n",
       "            background-color:  #3b4cc0;\n",
       "            color:  #f1f1f1;\n",
       "        }#T_242f7_row1_col5{\n",
       "            background-color:  #d2dbe8;\n",
       "            color:  #000000;\n",
       "        }#T_242f7_row2_col1,#T_242f7_row4_col3{\n",
       "            background-color:  #3e51c5;\n",
       "            color:  #f1f1f1;\n",
       "        }#T_242f7_row2_col5{\n",
       "            background-color:  #7295f4;\n",
       "            color:  #000000;\n",
       "        }#T_242f7_row3_col1,#T_242f7_row3_col2{\n",
       "            background-color:  #3c4ec2;\n",
       "            color:  #f1f1f1;\n",
       "        }#T_242f7_row3_col4{\n",
       "            background-color:  #4055c8;\n",
       "            color:  #f1f1f1;\n",
       "        }#T_242f7_row4_col5{\n",
       "            background-color:  #5d7ce6;\n",
       "            color:  #000000;\n",
       "        }#T_242f7_row5_col1{\n",
       "            background-color:  #f6bea4;\n",
       "            color:  #000000;\n",
       "        }#T_242f7_row5_col2{\n",
       "            background-color:  #d3dbe7;\n",
       "            color:  #000000;\n",
       "        }#T_242f7_row5_col3{\n",
       "            background-color:  #adc9fd;\n",
       "            color:  #000000;\n",
       "        }#T_242f7_row5_col4{\n",
       "            background-color:  #c6d6f1;\n",
       "            color:  #000000;\n",
       "        }</style><table id=\"T_242f7_\" ><thead>    <tr>        <th class=\"blank level0\" ></th>        <th class=\"col_heading level0 col0\" >X_0</th>        <th class=\"col_heading level0 col1\" >avg_income</th>        <th class=\"col_heading level0 col2\" >avg_area_house_age</th>        <th class=\"col_heading level0 col3\" >avg_area_num_rooms</th>        <th class=\"col_heading level0 col4\" >avg_population</th>        <th class=\"col_heading level0 col5\" >price</th>    </tr></thead><tbody>\n",
       "                <tr>\n",
       "                        <th id=\"T_242f7_level0_row0\" class=\"row_heading level0 row0\" >X_0</th>\n",
       "                        <td id=\"T_242f7_row0_col0\" class=\"data row0 col0\" >nan</td>\n",
       "                        <td id=\"T_242f7_row0_col1\" class=\"data row0 col1\" >nan</td>\n",
       "                        <td id=\"T_242f7_row0_col2\" class=\"data row0 col2\" >nan</td>\n",
       "                        <td id=\"T_242f7_row0_col3\" class=\"data row0 col3\" >nan</td>\n",
       "                        <td id=\"T_242f7_row0_col4\" class=\"data row0 col4\" >nan</td>\n",
       "                        <td id=\"T_242f7_row0_col5\" class=\"data row0 col5\" >nan</td>\n",
       "            </tr>\n",
       "            <tr>\n",
       "                        <th id=\"T_242f7_level0_row1\" class=\"row_heading level0 row1\" >avg_income</th>\n",
       "                        <td id=\"T_242f7_row1_col0\" class=\"data row1 col0\" >nan</td>\n",
       "                        <td id=\"T_242f7_row1_col1\" class=\"data row1 col1\" >1.000000</td>\n",
       "                        <td id=\"T_242f7_row1_col2\" class=\"data row1 col2\" >-0.002290</td>\n",
       "                        <td id=\"T_242f7_row1_col3\" class=\"data row1 col3\" >-0.009850</td>\n",
       "                        <td id=\"T_242f7_row1_col4\" class=\"data row1 col4\" >-0.015913</td>\n",
       "                        <td id=\"T_242f7_row1_col5\" class=\"data row1 col5\" >0.640288</td>\n",
       "            </tr>\n",
       "            <tr>\n",
       "                        <th id=\"T_242f7_level0_row2\" class=\"row_heading level0 row2\" >avg_area_house_age</th>\n",
       "                        <td id=\"T_242f7_row2_col0\" class=\"data row2 col0\" >nan</td>\n",
       "                        <td id=\"T_242f7_row2_col1\" class=\"data row2 col1\" >-0.002290</td>\n",
       "                        <td id=\"T_242f7_row2_col2\" class=\"data row2 col2\" >1.000000</td>\n",
       "                        <td id=\"T_242f7_row2_col3\" class=\"data row2 col3\" >-0.011914</td>\n",
       "                        <td id=\"T_242f7_row2_col4\" class=\"data row2 col4\" >-0.018883</td>\n",
       "                        <td id=\"T_242f7_row2_col5\" class=\"data row2 col5\" >0.451494</td>\n",
       "            </tr>\n",
       "            <tr>\n",
       "                        <th id=\"T_242f7_level0_row3\" class=\"row_heading level0 row3\" >avg_area_num_rooms</th>\n",
       "                        <td id=\"T_242f7_row3_col0\" class=\"data row3 col0\" >nan</td>\n",
       "                        <td id=\"T_242f7_row3_col1\" class=\"data row3 col1\" >-0.009850</td>\n",
       "                        <td id=\"T_242f7_row3_col2\" class=\"data row3 col2\" >-0.011914</td>\n",
       "                        <td id=\"T_242f7_row3_col3\" class=\"data row3 col3\" >1.000000</td>\n",
       "                        <td id=\"T_242f7_row3_col4\" class=\"data row3 col4\" >0.002442</td>\n",
       "                        <td id=\"T_242f7_row3_col5\" class=\"data row3 col5\" >0.335533</td>\n",
       "            </tr>\n",
       "            <tr>\n",
       "                        <th id=\"T_242f7_level0_row4\" class=\"row_heading level0 row4\" >avg_population</th>\n",
       "                        <td id=\"T_242f7_row4_col0\" class=\"data row4 col0\" >nan</td>\n",
       "                        <td id=\"T_242f7_row4_col1\" class=\"data row4 col1\" >-0.015913</td>\n",
       "                        <td id=\"T_242f7_row4_col2\" class=\"data row4 col2\" >-0.018883</td>\n",
       "                        <td id=\"T_242f7_row4_col3\" class=\"data row4 col3\" >0.002442</td>\n",
       "                        <td id=\"T_242f7_row4_col4\" class=\"data row4 col4\" >1.000000</td>\n",
       "                        <td id=\"T_242f7_row4_col5\" class=\"data row4 col5\" >0.408922</td>\n",
       "            </tr>\n",
       "            <tr>\n",
       "                        <th id=\"T_242f7_level0_row5\" class=\"row_heading level0 row5\" >price</th>\n",
       "                        <td id=\"T_242f7_row5_col0\" class=\"data row5 col0\" >nan</td>\n",
       "                        <td id=\"T_242f7_row5_col1\" class=\"data row5 col1\" >0.640288</td>\n",
       "                        <td id=\"T_242f7_row5_col2\" class=\"data row5 col2\" >0.451494</td>\n",
       "                        <td id=\"T_242f7_row5_col3\" class=\"data row5 col3\" >0.335533</td>\n",
       "                        <td id=\"T_242f7_row5_col4\" class=\"data row5 col4\" >0.408922</td>\n",
       "                        <td id=\"T_242f7_row5_col5\" class=\"data row5 col5\" >1.000000</td>\n",
       "            </tr>\n",
       "    </tbody></table>"
      ],
      "text/plain": [
       "<pandas.io.formats.style.Styler at 0x21b60a193a0>"
      ]
     },
     "execution_count": 13,
     "metadata": {},
     "output_type": "execute_result"
    }
   ],
   "source": [
    "corr = df.corr()\n",
    "corr.style.background_gradient(cmap='coolwarm')"
   ]
  },
  {
   "cell_type": "markdown",
   "metadata": {},
   "source": [
    "## Train and Test Split"
   ]
  },
  {
   "cell_type": "code",
   "execution_count": 14,
   "metadata": {},
   "outputs": [
    {
     "name": "stdout",
     "output_type": "stream",
     "text": [
      "(3753, 5) (1252, 5) (3753,) (1252,)\n"
     ]
    }
   ],
   "source": [
    "# split a dataset into train and test sets\n",
    "from sklearn.datasets import make_blobs\n",
    "from sklearn.model_selection import train_test_split\n",
    "# split into train test sets\n",
    "X_train, X_test, y_train, y_test = train_test_split(scaled_df.iloc[:,:-1],scaled_df['price'], test_size=0.25)\n",
    "print(X_train.shape, X_test.shape, y_train.shape, y_test.shape)"
   ]
  },
  {
   "cell_type": "code",
   "execution_count": 15,
   "metadata": {},
   "outputs": [],
   "source": [
    "X_train['X_0']=1\n",
    "X_test['X_0']=1"
   ]
  },
  {
   "cell_type": "code",
   "execution_count": 16,
   "metadata": {},
   "outputs": [],
   "source": [
    "X_train = np.array(X_train)\n",
    "y_train = np.array(y_train)\n",
    "X_test = np.array(X_test)\n",
    "y_test = np.array(y_test)"
   ]
  },
  {
   "cell_type": "markdown",
   "metadata": {},
   "source": [
    "# Approach 1"
   ]
  },
  {
   "cell_type": "markdown",
   "metadata": {},
   "source": [
    "## Linear regression modelling using Scikit learn inbuilt functions"
   ]
  },
  {
   "cell_type": "code",
   "execution_count": 17,
   "metadata": {},
   "outputs": [],
   "source": [
    "from sklearn.linear_model import LinearRegression\n",
    "\n",
    "model = LinearRegression(normalize=True)\n",
    "model.fit(X_train,y_train)\n",
    "y_pred = model.predict(X_test)\n",
    "coef = model.coef_\n",
    "intercept = model.intercept_"
   ]
  },
  {
   "cell_type": "code",
   "execution_count": 18,
   "metadata": {},
   "outputs": [
    {
     "data": {
      "text/plain": [
       "array([0.        , 0.65145737, 0.46628472, 0.34698781, 0.42679615])"
      ]
     },
     "execution_count": 18,
     "metadata": {},
     "output_type": "execute_result"
    }
   ],
   "source": [
    "coef"
   ]
  },
  {
   "cell_type": "code",
   "execution_count": 19,
   "metadata": {},
   "outputs": [
    {
     "data": {
      "text/plain": [
       "0.004174172536181725"
      ]
     },
     "execution_count": 19,
     "metadata": {},
     "output_type": "execute_result"
    }
   ],
   "source": [
    "intercept"
   ]
  },
  {
   "cell_type": "markdown",
   "metadata": {},
   "source": [
    "## Mean squared Error (MSE) "
   ]
  },
  {
   "cell_type": "code",
   "execution_count": 20,
   "metadata": {},
   "outputs": [
    {
     "data": {
      "text/plain": [
       "0.08331332827193688"
      ]
     },
     "execution_count": 20,
     "metadata": {},
     "output_type": "execute_result"
    }
   ],
   "source": [
    "loss_1 = sum((y_pred - y_test)**2)\n",
    "MSE_1 = loss_1/len(y_pred)\n",
    "MSE_1"
   ]
  },
  {
   "cell_type": "markdown",
   "metadata": {},
   "source": [
    "# Approach 2"
   ]
  },
  {
   "cell_type": "markdown",
   "metadata": {},
   "source": [
    "## Linear regression modelling without using Scikit learn inbuilt functions  "
   ]
  },
  {
   "cell_type": "code",
   "execution_count": 21,
   "metadata": {},
   "outputs": [],
   "source": [
    "X_train = np.array(X_train)\n",
    "y_train = np.array(y_train)\n",
    "X_test = np.array(X_test)\n",
    "y_test = np.array(y_test)"
   ]
  },
  {
   "cell_type": "code",
   "execution_count": 22,
   "metadata": {},
   "outputs": [],
   "source": [
    "n= 5\n",
    "t = np.zeros(n)\n",
    "m = len(X_train)\n",
    "alpha = 0.2\n",
    "epochs = 50\n",
    "cost = np.array([])\n",
    "theta_0 = np.array([])\n",
    "theta_1 = np.array([])\n",
    "theta_2 = np.array([])\n",
    "theta_3 = np.array([])\n",
    "theta_4 = np.array([])"
   ]
  },
  {
   "cell_type": "code",
   "execution_count": 23,
   "metadata": {},
   "outputs": [
    {
     "name": "stdout",
     "output_type": "stream",
     "text": [
      "0.00010235451829092182\n",
      "7.771089624494023e-05\n",
      "5.9931884205199075e-05\n",
      "4.70009191133663e-05\n",
      "3.7514790230084053e-05\n",
      "3.049308981836027e-05\n",
      "2.5247596998815194e-05\n",
      "2.1292611324720197e-05\n",
      "1.8283289231212017e-05\n",
      "1.5973149299849638e-05\n",
      "1.4184715104998376e-05\n",
      "1.2789175124169878e-05\n",
      "1.1692242255510337e-05\n",
      "1.0824284556531457e-05\n",
      "1.013340576686926e-05\n",
      "9.580568807820016e-06\n",
      "9.136138930578664e-06\n",
      "8.777417185811071e-06\n",
      "8.486867807089264e-06\n",
      "8.250834297434353e-06\n",
      "8.058601681975808e-06\n",
      "7.90170554605786e-06\n",
      "7.773418263995938e-06\n",
      "7.668363437698544e-06\n",
      "7.582223876487377e-06\n",
      "7.511518423263051e-06\n",
      "7.453429912667769e-06\n",
      "7.405671456527659e-06\n",
      "7.3663817243265935e-06\n",
      "7.3340423578860064e-06\n",
      "7.307412430612934e-06\n",
      "7.285476140727303e-06\n",
      "7.26740085904345e-06\n",
      "7.2525033357139865e-06\n",
      "7.240222377033986e-06\n",
      "7.230096682332578e-06\n",
      "7.221746816963616e-06\n",
      "7.21486051524143e-06\n",
      "7.2091806745349576e-06\n",
      "7.2044955314242206e-06\n",
      "7.200630612100183e-06\n",
      "7.197442128854203e-06\n",
      "7.194811557570432e-06\n",
      "7.192641181377881e-06\n",
      "7.190850425824619e-06\n",
      "7.189372843280865e-06\n",
      "7.18815363039395e-06\n",
      "7.187147583569037e-06\n",
      "7.186317414639458e-06\n",
      "7.185632362898209e-06\n"
     ]
    }
   ],
   "source": [
    "for epoch in range(0,epochs):\n",
    "    for j in range(n):\n",
    "        for i in range(m):\n",
    "            t[j] = t[j] - (alpha/m)*((sum(X_train[i]*t)-y_train[i])*X_train[i][j])\n",
    "            c = ((sum(X_train[i]*t)-y_train[i])**2)/(2*m)\n",
    "    print(c)\n",
    "    cost = np.append(cost,c,axis = None)\n",
    "    theta_0 = np.append(theta_0,t[0],axis = None) \n",
    "    theta_1 = np.append(theta_1,t[1],axis = None)\n",
    "    theta_2 = np.append(theta_2,t[2],axis = None)\n",
    "    theta_3 = np.append(theta_3,t[3],axis = None)\n",
    "    theta_4 = np.append(theta_4,t[4],axis = None)"
   ]
  },
  {
   "cell_type": "code",
   "execution_count": 24,
   "metadata": {},
   "outputs": [
    {
     "data": {
      "text/plain": [
       "array([0.00458992, 0.65112156, 0.46594223, 0.34660187, 0.4267638 ])"
      ]
     },
     "execution_count": 24,
     "metadata": {},
     "output_type": "execute_result"
    }
   ],
   "source": [
    "t"
   ]
  },
  {
   "cell_type": "code",
   "execution_count": 25,
   "metadata": {},
   "outputs": [],
   "source": [
    "Epochs = list(range(epochs))"
   ]
  },
  {
   "cell_type": "code",
   "execution_count": 26,
   "metadata": {},
   "outputs": [
    {
     "data": {
      "image/png": "[encoded data removed]",
      "text/plain": [
       "<Figure size 576x288 with 1 Axes>"
      ]
     },
     "metadata": {
      "needs_background": "light"
     },
     "output_type": "display_data"
    }
   ],
   "source": [
    "plt.figure(figsize=(8,4))\n",
    "plt.plot(Epochs,cost)\n",
    "plt.xlabel(\"No of Epochs\")\n",
    "plt.ylabel(\"Cost Function\")\n",
    "plt.title(\"Cost Function v/s Epochs\")\n",
    "plt.show()"
   ]
  },
  {
   "cell_type": "code",
   "execution_count": 27,
   "metadata": {},
   "outputs": [
    {
     "data": {
      "image/png": "[encoded data removed]",
      "text/plain": [
       "<Figure size 576x288 with 1 Axes>"
      ]
     },
     "metadata": {
      "needs_background": "light"
     },
     "output_type": "display_data"
    }
   ],
   "source": [
    "plt.figure(figsize=(8,4))\n",
    "plt.plot(theta_0,cost)\n",
    "plt.xlabel(\"theta_0\")\n",
    "plt.ylabel(\"Cost Function\")\n",
    "plt.title(\"Theta_0 v/s Cost function\")\n",
    "plt.show()"
   ]
  },
  {
   "cell_type": "code",
   "execution_count": 28,
   "metadata": {},
   "outputs": [
    {
     "data": {
      "image/png": "[encoded data removed]",
      "text/plain": [
       "<Figure size 576x288 with 1 Axes>"
      ]
     },
     "metadata": {
      "needs_background": "light"
     },
     "output_type": "display_data"
    }
   ],
   "source": [
    "plt.figure(figsize=(8,4))\n",
    "plt.plot(theta_1,cost)\n",
    "plt.xlabel(\"theta_1\")\n",
    "plt.ylabel(\"Cost Function\")\n",
    "plt.title(\"Theta_1 v/s Cost function\")\n",
    "plt.show()"
   ]
  },
  {
   "cell_type": "code",
   "execution_count": 29,
   "metadata": {},
   "outputs": [
    {
     "data": {
      "image/png": "[encoded data removed]",
      "text/plain": [
       "<Figure size 576x288 with 1 Axes>"
      ]
     },
     "metadata": {
      "needs_background": "light"
     },
     "output_type": "display_data"
    }
   ],
   "source": [
    "plt.figure(figsize=(8,4))\n",
    "plt.plot(theta_2,cost)\n",
    "plt.xlabel(\"theta_2\")\n",
    "plt.ylabel(\"Cost Function\")\n",
    "plt.title(\"Theta_2 v/s Cost function\")\n",
    "plt.show()"
   ]
  },
  {
   "cell_type": "code",
   "execution_count": 30,
   "metadata": {},
   "outputs": [
    {
     "data": {
      "image/png": "[encoded data removed]",
      "text/plain": [
       "<Figure size 576x288 with 1 Axes>"
      ]
     },
     "metadata": {
      "needs_background": "light"
     },
     "output_type": "display_data"
    }
   ],
   "source": [
    "plt.figure(figsize=(8,4))\n",
    "plt.plot(theta_3,cost)\n",
    "plt.xlabel(\"theta_3\")\n",
    "plt.ylabel(\"Cost Function\")\n",
    "plt.title(\"Theta_3 v/s Cost function\")\n",
    "plt.show()"
   ]
  },
  {
   "cell_type": "code",
   "execution_count": 31,
   "metadata": {},
   "outputs": [
    {
     "data": {
      "image/png": "[encoded data removed]",
      "text/plain": [
       "<Figure size 576x288 with 1 Axes>"
      ]
     },
     "metadata": {
      "needs_background": "light"
     },
     "output_type": "display_data"
    }
   ],
   "source": [
    "plt.figure(figsize=(8,4))\n",
    "plt.plot(theta_4,cost)\n",
    "plt.xlabel(\"theta_4\")\n",
    "plt.ylabel(\"Cost Function\")\n",
    "plt.title(\"Theta_4 v/s Cost function\")\n",
    "plt.show()"
   ]
  },
  {
   "cell_type": "markdown",
   "metadata": {},
   "source": [
    "## Predictions"
   ]
  },
  {
   "cell_type": "code",
   "execution_count": 32,
   "metadata": {},
   "outputs": [
    {
     "data": {
      "text/plain": [
       "array([-1.69824021,  0.49356488,  0.56752005, ...,  0.49262328,\n",
       "       -0.92030968, -1.06731585])"
      ]
     },
     "execution_count": 32,
     "metadata": {},
     "output_type": "execute_result"
    }
   ],
   "source": [
    "pred_2= list()\n",
    "for e in X_test:\n",
    "    pred_2.append(sum(t*e))\n",
    "y_pred_2=np.array(pred_2)   \n",
    "y_pred_2"
   ]
  },
  {
   "cell_type": "markdown",
   "metadata": {},
   "source": [
    "## Mean squared error (MSE)"
   ]
  },
  {
   "cell_type": "code",
   "execution_count": 33,
   "metadata": {},
   "outputs": [
    {
     "data": {
      "text/plain": [
       "0.08332352339083865"
      ]
     },
     "execution_count": 33,
     "metadata": {},
     "output_type": "execute_result"
    }
   ],
   "source": [
    "loss_2 = sum((y_pred_2 - y_test)**2)\n",
    "MSE_2 = loss_2/len(y_test)\n",
    "MSE_2"
   ]
  },
  {
   "cell_type": "markdown",
   "metadata": {},
   "source": [
    "## Comparing weights of both the approaches"
   ]
  },
  {
   "cell_type": "markdown",
   "metadata": {},
   "source": [
    "### Weights for linear regression using scikit learn inbuilt functions "
   ]
  },
  {
   "cell_type": "code",
   "execution_count": 34,
   "metadata": {},
   "outputs": [
    {
     "data": {
      "text/plain": [
       "array([0.        , 0.65145737, 0.46628472, 0.34698781, 0.42679615])"
      ]
     },
     "execution_count": 34,
     "metadata": {},
     "output_type": "execute_result"
    }
   ],
   "source": [
    "coef"
   ]
  },
  {
   "cell_type": "markdown",
   "metadata": {},
   "source": [
    "### Weights for linear regression without using inbuilt functions "
   ]
  },
  {
   "cell_type": "code",
   "execution_count": 35,
   "metadata": {},
   "outputs": [
    {
     "data": {
      "text/plain": [
       "array([0.00458992, 0.65112156, 0.46594223, 0.34660187, 0.4267638 ])"
      ]
     },
     "execution_count": 35,
     "metadata": {},
     "output_type": "execute_result"
    }
   ],
   "source": [
    "t"
   ]
  },
  {
   "cell_type": "markdown",
   "metadata": {},
   "source": [
    "## Comparing Mean squared error of both the approaches"
   ]
  },
  {
   "cell_type": "markdown",
   "metadata": {},
   "source": [
    "### MSE for linear regression using scikit learn inbuilt functions "
   ]
  },
  {
   "cell_type": "code",
   "execution_count": 36,
   "metadata": {},
   "outputs": [
    {
     "data": {
      "text/plain": [
       "0.08331332827193688"
      ]
     },
     "execution_count": 36,
     "metadata": {},
     "output_type": "execute_result"
    }
   ],
   "source": [
    "MSE_1"
   ]
  },
  {
   "cell_type": "markdown",
   "metadata": {},
   "source": [
    "### MSE for linear regression without using inbuilt functions "
   ]
  },
  {
   "cell_type": "code",
   "execution_count": 37,
   "metadata": {},
   "outputs": [
    {
     "data": {
      "text/plain": [
       "0.08332352339083865"
      ]
     },
     "execution_count": 37,
     "metadata": {},
     "output_type": "execute_result"
    }
   ],
   "source": [
    "MSE_2"
   ]
  },
  {
   "cell_type": "markdown",
   "metadata": {},
   "source": [
    "## Implementation"
   ]
  },
  {
   "cell_type": "code",
   "execution_count": 38,
   "metadata": {},
   "outputs": [
    {
     "name": "stdout",
     "output_type": "stream",
     "text": [
      "Enter your average income rs:25000\n",
      "Enter expected area of house in sqft:500\n",
      "Enter expected no of rooms :5\n",
      "Enter average population in that area :700000\n",
      "The predicted house price is rs. 315247.41 /-\n"
     ]
    }
   ],
   "source": [
    "#### Sample implementations of house price prediction model\n",
    "# avg_income = float(input(\"Enter your average income rs:\"))\n",
    "# avg_area_house_age = float(input(\"Enter expected area of house in sqft:\"))\n",
    "# avg_area_num_rooms = float(input(\"Enter expected no of rooms :\"))\n",
    "# avg_population = float(input(\"Enter average population in that area :\"))\n",
    "\n",
    "# new = sum(t*[1,avg_income,avg_area_house_age,avg_area_num_rooms,avg_population])\n",
    "# print(\"The predicted house price is rs.\",\"{:.2f}\".format(new),\"/-\")"
   ]
  }
 ],
 "metadata": {
  "kernelspec": {
   "display_name": "Python 3",
   "language": "python",
   "name": "python3"
  },
  "language_info": {
   "codemirror_mode": {
    "name": "ipython",
    "version": 3
   },
   "file_extension": ".py",
   "mimetype": "text/x-python",
   "name": "python",
   "nbconvert_exporter": "python",
   "pygments_lexer": "ipython3",
   "version": "3.8.8"
  }
 },
 "nbformat": 4,
 "nbformat_minor": 4
}
