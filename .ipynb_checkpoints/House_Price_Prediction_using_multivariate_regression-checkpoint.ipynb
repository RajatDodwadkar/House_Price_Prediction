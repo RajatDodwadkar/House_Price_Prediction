{
 "cells": [
  {
   "cell_type": "markdown",
   "metadata": {},
   "source": [
    "# House price prediction "
   ]
  },
  {
   "cell_type": "markdown",
   "metadata": {},
   "source": [
    "## About dataset\n",
    "\n",
    "### Dataset is downloaded from kaggle. dataset consists of 6 columns namely avg_income, avg_area_house_age, avg_area_num_rooms, avg_bedrooms,avg_population and price.\n"
   ]
  },
  {
   "cell_type": "markdown",
   "metadata": {},
   "source": [
    "### Imports"
   ]
  },
  {
   "cell_type": "code",
   "execution_count": 1,
   "metadata": {},
   "outputs": [],
   "source": [
    "import numpy as np\n",
    "import pandas as pd\n",
    "import matplotlib.pyplot as plt\n",
    "import sklearn"
   ]
  },
  {
   "cell_type": "code",
   "execution_count": 2,
   "metadata": {},
   "outputs": [],
   "source": [
    "df = pd.read_csv('house_price_prediction.csv')"
   ]
  },
  {
   "cell_type": "code",
   "execution_count": 3,
   "metadata": {},
   "outputs": [
    {
     "data": {
      "text/html": [
       "<div>\n",
       "<style scoped>\n",
       "    .dataframe tbody tr th:only-of-type {\n",
       "        vertical-align: middle;\n",
       "    }\n",
       "\n",
       "    .dataframe tbody tr th {\n",
       "        vertical-align: top;\n",
       "    }\n",
       "\n",
       "    .dataframe thead th {\n",
       "        text-align: right;\n",
       "    }\n",
       "</style>\n",
       "<table border=\"1\" class=\"dataframe\">\n",
       "  <thead>\n",
       "    <tr style=\"text-align: right;\">\n",
       "      <th></th>\n",
       "      <th>avg_income</th>\n",
       "      <th>avg_area_house_age</th>\n",
       "      <th>avg_area_num_rooms</th>\n",
       "      <th>avg_bedrooms</th>\n",
       "      <th>avg_population</th>\n",
       "      <th>price</th>\n",
       "    </tr>\n",
       "  </thead>\n",
       "  <tbody>\n",
       "    <tr>\n",
       "      <th>0</th>\n",
       "      <td>79545.45857</td>\n",
       "      <td>5.682861</td>\n",
       "      <td>7.009188</td>\n",
       "      <td>4.09</td>\n",
       "      <td>23086.80050</td>\n",
       "      <td>1.059034e+06</td>\n",
       "    </tr>\n",
       "    <tr>\n",
       "      <th>1</th>\n",
       "      <td>79248.64245</td>\n",
       "      <td>6.002900</td>\n",
       "      <td>6.730821</td>\n",
       "      <td>3.09</td>\n",
       "      <td>40173.07217</td>\n",
       "      <td>1.505891e+06</td>\n",
       "    </tr>\n",
       "    <tr>\n",
       "      <th>2</th>\n",
       "      <td>61287.06718</td>\n",
       "      <td>5.865890</td>\n",
       "      <td>8.512727</td>\n",
       "      <td>5.13</td>\n",
       "      <td>36882.15940</td>\n",
       "      <td>1.058988e+06</td>\n",
       "    </tr>\n",
       "    <tr>\n",
       "      <th>3</th>\n",
       "      <td>63345.24005</td>\n",
       "      <td>7.188236</td>\n",
       "      <td>5.586729</td>\n",
       "      <td>3.26</td>\n",
       "      <td>34310.24283</td>\n",
       "      <td>1.260617e+06</td>\n",
       "    </tr>\n",
       "    <tr>\n",
       "      <th>4</th>\n",
       "      <td>59982.19723</td>\n",
       "      <td>5.040555</td>\n",
       "      <td>7.839388</td>\n",
       "      <td>4.23</td>\n",
       "      <td>26354.10947</td>\n",
       "      <td>6.309435e+05</td>\n",
       "    </tr>\n",
       "  </tbody>\n",
       "</table>\n",
       "</div>"
      ],
      "text/plain": [
       "    avg_income  avg_area_house_age  avg_area_num_rooms  avg_bedrooms  \\\n",
       "0  79545.45857            5.682861            7.009188          4.09   \n",
       "1  79248.64245            6.002900            6.730821          3.09   \n",
       "2  61287.06718            5.865890            8.512727          5.13   \n",
       "3  63345.24005            7.188236            5.586729          3.26   \n",
       "4  59982.19723            5.040555            7.839388          4.23   \n",
       "\n",
       "   avg_population         price  \n",
       "0     23086.80050  1.059034e+06  \n",
       "1     40173.07217  1.505891e+06  \n",
       "2     36882.15940  1.058988e+06  \n",
       "3     34310.24283  1.260617e+06  \n",
       "4     26354.10947  6.309435e+05  "
      ]
     },
     "execution_count": 3,
     "metadata": {},
     "output_type": "execute_result"
    }
   ],
   "source": [
    "df.head(5)"
   ]
  },
  {
   "cell_type": "code",
   "execution_count": 4,
   "metadata": {},
   "outputs": [
    {
     "data": {
      "text/html": [
       "<div>\n",
       "<style scoped>\n",
       "    .dataframe tbody tr th:only-of-type {\n",
       "        vertical-align: middle;\n",
       "    }\n",
       "\n",
       "    .dataframe tbody tr th {\n",
       "        vertical-align: top;\n",
       "    }\n",
       "\n",
       "    .dataframe thead th {\n",
       "        text-align: right;\n",
       "    }\n",
       "</style>\n",
       "<table border=\"1\" class=\"dataframe\">\n",
       "  <thead>\n",
       "    <tr style=\"text-align: right;\">\n",
       "      <th></th>\n",
       "      <th>avg_income</th>\n",
       "      <th>avg_area_house_age</th>\n",
       "      <th>avg_area_num_rooms</th>\n",
       "      <th>avg_bedrooms</th>\n",
       "      <th>avg_population</th>\n",
       "      <th>price</th>\n",
       "    </tr>\n",
       "  </thead>\n",
       "  <tbody>\n",
       "    <tr>\n",
       "      <th>count</th>\n",
       "      <td>5009.000000</td>\n",
       "      <td>5010.000000</td>\n",
       "      <td>5011.000000</td>\n",
       "      <td>5012.000000</td>\n",
       "      <td>5009.000000</td>\n",
       "      <td>5.012000e+03</td>\n",
       "    </tr>\n",
       "    <tr>\n",
       "      <th>mean</th>\n",
       "      <td>68577.804938</td>\n",
       "      <td>5.977508</td>\n",
       "      <td>6.987906</td>\n",
       "      <td>3.982095</td>\n",
       "      <td>36155.832559</td>\n",
       "      <td>1.231947e+06</td>\n",
       "    </tr>\n",
       "    <tr>\n",
       "      <th>std</th>\n",
       "      <td>10661.033166</td>\n",
       "      <td>0.991472</td>\n",
       "      <td>1.006453</td>\n",
       "      <td>1.233945</td>\n",
       "      <td>9928.823462</td>\n",
       "      <td>3.529525e+05</td>\n",
       "    </tr>\n",
       "    <tr>\n",
       "      <th>min</th>\n",
       "      <td>17796.631190</td>\n",
       "      <td>2.644304</td>\n",
       "      <td>3.236194</td>\n",
       "      <td>2.000000</td>\n",
       "      <td>172.610686</td>\n",
       "      <td>1.593866e+04</td>\n",
       "    </tr>\n",
       "    <tr>\n",
       "      <th>25%</th>\n",
       "      <td>61482.244790</td>\n",
       "      <td>5.322274</td>\n",
       "      <td>6.298437</td>\n",
       "      <td>3.140000</td>\n",
       "      <td>29403.512060</td>\n",
       "      <td>9.981375e+05</td>\n",
       "    </tr>\n",
       "    <tr>\n",
       "      <th>50%</th>\n",
       "      <td>68814.925610</td>\n",
       "      <td>5.969828</td>\n",
       "      <td>7.003188</td>\n",
       "      <td>4.050000</td>\n",
       "      <td>36183.287800</td>\n",
       "      <td>1.232983e+06</td>\n",
       "    </tr>\n",
       "    <tr>\n",
       "      <th>75%</th>\n",
       "      <td>75780.621120</td>\n",
       "      <td>6.652302</td>\n",
       "      <td>7.667048</td>\n",
       "      <td>4.490000</td>\n",
       "      <td>42841.741620</td>\n",
       "      <td>1.471756e+06</td>\n",
       "    </tr>\n",
       "    <tr>\n",
       "      <th>max</th>\n",
       "      <td>107701.748400</td>\n",
       "      <td>9.519088</td>\n",
       "      <td>10.759588</td>\n",
       "      <td>6.500000</td>\n",
       "      <td>69621.713380</td>\n",
       "      <td>2.469066e+06</td>\n",
       "    </tr>\n",
       "  </tbody>\n",
       "</table>\n",
       "</div>"
      ],
      "text/plain": [
       "          avg_income  avg_area_house_age  avg_area_num_rooms  avg_bedrooms  \\\n",
       "count    5009.000000         5010.000000         5011.000000   5012.000000   \n",
       "mean    68577.804938            5.977508            6.987906      3.982095   \n",
       "std     10661.033166            0.991472            1.006453      1.233945   \n",
       "min     17796.631190            2.644304            3.236194      2.000000   \n",
       "25%     61482.244790            5.322274            6.298437      3.140000   \n",
       "50%     68814.925610            5.969828            7.003188      4.050000   \n",
       "75%     75780.621120            6.652302            7.667048      4.490000   \n",
       "max    107701.748400            9.519088           10.759588      6.500000   \n",
       "\n",
       "       avg_population         price  \n",
       "count     5009.000000  5.012000e+03  \n",
       "mean     36155.832559  1.231947e+06  \n",
       "std       9928.823462  3.529525e+05  \n",
       "min        172.610686  1.593866e+04  \n",
       "25%      29403.512060  9.981375e+05  \n",
       "50%      36183.287800  1.232983e+06  \n",
       "75%      42841.741620  1.471756e+06  \n",
       "max      69621.713380  2.469066e+06  "
      ]
     },
     "execution_count": 4,
     "metadata": {},
     "output_type": "execute_result"
    }
   ],
   "source": [
    "df.describe()"
   ]
  },
  {
   "cell_type": "code",
   "execution_count": 5,
   "metadata": {},
   "outputs": [
    {
     "name": "stdout",
     "output_type": "stream",
     "text": [
      "<class 'pandas.core.frame.DataFrame'>\n",
      "RangeIndex: 5012 entries, 0 to 5011\n",
      "Data columns (total 6 columns):\n",
      " #   Column              Non-Null Count  Dtype  \n",
      "---  ------              --------------  -----  \n",
      " 0   avg_income          5009 non-null   float64\n",
      " 1   avg_area_house_age  5010 non-null   float64\n",
      " 2   avg_area_num_rooms  5011 non-null   float64\n",
      " 3   avg_bedrooms        5012 non-null   float64\n",
      " 4   avg_population      5009 non-null   float64\n",
      " 5   price               5012 non-null   float64\n",
      "dtypes: float64(6)\n",
      "memory usage: 235.1 KB\n"
     ]
    }
   ],
   "source": [
    "df.info()"
   ]
  },
  {
   "cell_type": "markdown",
   "metadata": {},
   "source": [
    "### Some rows of features contain null values. This may affect the performance of the model. Therefore we drop the samples containing null values."
   ]
  },
  {
   "cell_type": "code",
   "execution_count": 6,
   "metadata": {},
   "outputs": [],
   "source": [
    "df = df.dropna()"
   ]
  },
  {
   "cell_type": "code",
   "execution_count": 7,
   "metadata": {},
   "outputs": [
    {
     "name": "stdout",
     "output_type": "stream",
     "text": [
      "<class 'pandas.core.frame.DataFrame'>\n",
      "Int64Index: 5005 entries, 0 to 5011\n",
      "Data columns (total 6 columns):\n",
      " #   Column              Non-Null Count  Dtype  \n",
      "---  ------              --------------  -----  \n",
      " 0   avg_income          5005 non-null   float64\n",
      " 1   avg_area_house_age  5005 non-null   float64\n",
      " 2   avg_area_num_rooms  5005 non-null   float64\n",
      " 3   avg_bedrooms        5005 non-null   float64\n",
      " 4   avg_population      5005 non-null   float64\n",
      " 5   price               5005 non-null   float64\n",
      "dtypes: float64(6)\n",
      "memory usage: 273.7 KB\n"
     ]
    }
   ],
   "source": [
    "df.info()"
   ]
  },
  {
   "cell_type": "markdown",
   "metadata": {},
   "source": [
    "## Feature scaling\n",
    "### Scaling down features to the same range for better performance and reduce computations  using mean square normalization."
   ]
  },
  {
   "cell_type": "code",
   "execution_count": 8,
   "metadata": {},
   "outputs": [],
   "source": [
    "scaled_df = (df - df.mean()) / df.std()"
   ]
  },
  {
   "cell_type": "markdown",
   "metadata": {},
   "source": [
    "## Data visualization"
   ]
  },
  {
   "cell_type": "code",
   "execution_count": 9,
   "metadata": {},
   "outputs": [
    {
     "data": {
      "text/plain": [
       "<matplotlib.collections.PathCollection at 0x26691bec700>"
      ]
     },
     "execution_count": 9,
     "metadata": {},
     "output_type": "execute_result"
    },
    {
     "data": {
      "image/png": "[encoded data removed]",
      "text/plain": [
       "<Figure size 432x288 with 1 Axes>"
      ]
     },
     "metadata": {
      "needs_background": "light"
     },
     "output_type": "display_data"
    }
   ],
   "source": [
    "plt.scatter(scaled_df['avg_income'],scaled_df['price'])"
   ]
  },
  {
   "cell_type": "code",
   "execution_count": 10,
   "metadata": {},
   "outputs": [
    {
     "data": {
      "text/plain": [
       "<matplotlib.collections.PathCollection at 0x26691c98130>"
      ]
     },
     "execution_count": 10,
     "metadata": {},
     "output_type": "execute_result"
    },
    {
     "data": {
      "image/png": "[encoded data removed]",
      "text/plain": [
       "<Figure size 432x288 with 1 Axes>"
      ]
     },
     "metadata": {
      "needs_background": "light"
     },
     "output_type": "display_data"
    }
   ],
   "source": [
    "plt.scatter(scaled_df['avg_area_house_age'],scaled_df['price'])"
   ]
  },
  {
   "cell_type": "code",
   "execution_count": 11,
   "metadata": {},
   "outputs": [
    {
     "data": {
      "text/plain": [
       "<matplotlib.collections.PathCollection at 0x26691cfb370>"
      ]
     },
     "execution_count": 11,
     "metadata": {},
     "output_type": "execute_result"
    },
    {
     "data": {
      "image/png": "[encoded data removed]",
      "text/plain": [
       "<Figure size 432x288 with 1 Axes>"
      ]
     },
     "metadata": {
      "needs_background": "light"
     },
     "output_type": "display_data"
    }
   ],
   "source": [
    "plt.scatter(scaled_df['avg_area_num_rooms'],scaled_df['price'])"
   ]
  },
  {
   "cell_type": "code",
   "execution_count": 12,
   "metadata": {},
   "outputs": [
    {
     "data": {
      "text/plain": [
       "<matplotlib.collections.PathCollection at 0x26691d4aa60>"
      ]
     },
     "execution_count": 12,
     "metadata": {},
     "output_type": "execute_result"
    },
    {
     "data": {
      "image/png": "[encoded data removed]",
      "text/plain": [
       "<Figure size 432x288 with 1 Axes>"
      ]
     },
     "metadata": {
      "needs_background": "light"
     },
     "output_type": "display_data"
    }
   ],
   "source": [
    "plt.scatter(scaled_df['avg_bedrooms'],scaled_df['price'])"
   ]
  },
  {
   "cell_type": "code",
   "execution_count": 13,
   "metadata": {},
   "outputs": [
    {
     "data": {
      "text/plain": [
       "<matplotlib.collections.PathCollection at 0x26691dab220>"
      ]
     },
     "execution_count": 13,
     "metadata": {},
     "output_type": "execute_result"
    },
    {
     "data": {
      "image/png": "[encoded data removed]",
      "text/plain": [
       "<Figure size 432x288 with 1 Axes>"
      ]
     },
     "metadata": {
      "needs_background": "light"
     },
     "output_type": "display_data"
    }
   ],
   "source": [
    "plt.scatter(scaled_df['avg_population'],scaled_df['price'])"
   ]
  },
  {
   "cell_type": "markdown",
   "metadata": {},
   "source": [
    "## Train and Test Split"
   ]
  },
  {
   "cell_type": "code",
   "execution_count": 14,
   "metadata": {},
   "outputs": [
    {
     "name": "stdout",
     "output_type": "stream",
     "text": [
      "(3753, 5) (1252, 5) (3753,) (1252,)\n"
     ]
    }
   ],
   "source": [
    "# split a dataset into train and test sets\n",
    "from sklearn.datasets import make_blobs\n",
    "from sklearn.model_selection import train_test_split\n",
    "# split into train test sets\n",
    "X_train, X_test, y_train, y_test = train_test_split(scaled_df.iloc[:,:5],scaled_df['price'], test_size=0.25)\n",
    "print(X_train.shape, X_test.shape, y_train.shape, y_test.shape)"
   ]
  },
  {
   "cell_type": "code",
   "execution_count": 17,
   "metadata": {},
   "outputs": [
    {
     "data": {
      "text/html": [
       "<div>\n",
       "<style scoped>\n",
       "    .dataframe tbody tr th:only-of-type {\n",
       "        vertical-align: middle;\n",
       "    }\n",
       "\n",
       "    .dataframe tbody tr th {\n",
       "        vertical-align: top;\n",
       "    }\n",
       "\n",
       "    .dataframe thead th {\n",
       "        text-align: right;\n",
       "    }\n",
       "</style>\n",
       "<table border=\"1\" class=\"dataframe\">\n",
       "  <thead>\n",
       "    <tr style=\"text-align: right;\">\n",
       "      <th></th>\n",
       "      <th>avg_income</th>\n",
       "      <th>avg_area_house_age</th>\n",
       "      <th>avg_area_num_rooms</th>\n",
       "      <th>avg_bedrooms</th>\n",
       "      <th>avg_population</th>\n",
       "    </tr>\n",
       "  </thead>\n",
       "  <tbody>\n",
       "    <tr>\n",
       "      <th>2586</th>\n",
       "      <td>1.088323</td>\n",
       "      <td>-0.324256</td>\n",
       "      <td>-0.140391</td>\n",
       "      <td>-0.649859</td>\n",
       "      <td>0.913839</td>\n",
       "    </tr>\n",
       "  </tbody>\n",
       "</table>\n",
       "</div>"
      ],
      "text/plain": [
       "      avg_income  avg_area_house_age  avg_area_num_rooms  avg_bedrooms  \\\n",
       "2586    1.088323           -0.324256           -0.140391     -0.649859   \n",
       "\n",
       "      avg_population  \n",
       "2586        0.913839  "
      ]
     },
     "execution_count": 17,
     "metadata": {},
     "output_type": "execute_result"
    }
   ],
   "source": [
    "X_train.iloc[0]"
   ]
  },
  {
   "cell_type": "code",
   "execution_count": 16,
   "metadata": {},
   "outputs": [
    {
     "ename": "SyntaxError",
     "evalue": "invalid syntax (<ipython-input-16-b307e46d4a45>, line 9)",
     "output_type": "error",
     "traceback": [
      "\u001b[1;36m  File \u001b[1;32m\"<ipython-input-16-b307e46d4a45>\"\u001b[1;36m, line \u001b[1;32m9\u001b[0m\n\u001b[1;33m    thetaOfJ*\u001b[0m\n\u001b[1;37m             ^\u001b[0m\n\u001b[1;31mSyntaxError\u001b[0m\u001b[1;31m:\u001b[0m invalid syntax\n"
     ]
    }
   ],
   "source": [
    "alpha = 0.1\n",
    "thetaOfJ = 1\n",
    "\n",
    "m=len(X_train)\n",
    "sumOfj=0\n",
    "n=5\n",
    "for i in range(1,m+1):\n",
    "    for j in range(1,n+1):\n",
    "        thetaOfJ*\n",
    "        "
   ]
  },
  {
   "cell_type": "code",
   "execution_count": null,
   "metadata": {},
   "outputs": [],
   "source": []
  },
  {
   "cell_type": "code",
   "execution_count": null,
   "metadata": {},
   "outputs": [],
   "source": []
  },
  {
   "cell_type": "code",
   "execution_count": null,
   "metadata": {},
   "outputs": [],
   "source": [
    "# from sklearn.linear_model import LinearRegression\n",
    "# import matplotlib.pyplot as plt\n",
    "\n",
    "# lm = LinearRegression()\n",
    "# lm.fit(X_train, y_train)\n",
    "\n",
    "\n",
    "# y_pred_from_sklearn = lm.predict(X_test)\n",
    "\n",
    "# plt.scatter(y_test, y_pred_from_sklearn)\n",
    "# plt.xlabel(\"Prices: $Y_i$\")\n",
    "# plt.ylabel(\"Predicted prices: $\\hat{Y}_i$\")\n",
    "# plt.title(\"Prices vs Predicted prices: $Y_i$ vs $\\hat{Y}_i$\")\n",
    "# plt.show()\n"
   ]
  },
  {
   "cell_type": "markdown",
   "metadata": {},
   "source": [
    "## Predictions"
   ]
  },
  {
   "cell_type": "code",
   "execution_count": null,
   "metadata": {},
   "outputs": [],
   "source": [
    "#Sample implementations of house price prediction model\n",
    "avg_income = float(input(\"Enter your average income rs:\"))\n",
    "avg_area_house_age = float(input(\"Enter expected area of house in sqft:\"))\n",
    "avg_area_num_rooms = float(input(\"Enter expected no of rooms :\"))\n",
    "avg_bedrooms = float(input(\"Enter expected no of bedrooms :\"))\n",
    "avg_population = float(input(\"Enter average population in that area :\"))\n",
    "\n",
    "new = np.array([avg_income,avg_area_house_age,avg_area_num_rooms,avg_bedrooms,avg_population])\n",
    "new = new.reshape(1, -1)\n",
    "new = lm.predict(new)\n",
    "print(\"The predicted house price is rs.\",int(new[0]))"
   ]
  },
  {
   "cell_type": "code",
   "execution_count": null,
   "metadata": {},
   "outputs": [],
   "source": []
  },
  {
   "cell_type": "code",
   "execution_count": null,
   "metadata": {},
   "outputs": [],
   "source": []
  },
  {
   "cell_type": "code",
   "execution_count": null,
   "metadata": {},
   "outputs": [],
   "source": []
  },
  {
   "cell_type": "code",
   "execution_count": null,
   "metadata": {},
   "outputs": [],
   "source": []
  },
  {
   "cell_type": "code",
   "execution_count": null,
   "metadata": {},
   "outputs": [],
   "source": []
  },
  {
   "cell_type": "markdown",
   "metadata": {},
   "source": [
    "## Using Gradient descent"
   ]
  },
  {
   "cell_type": "code",
   "execution_count": null,
   "metadata": {},
   "outputs": [],
   "source": [
    "from sklearn.datasets import load_boston\n",
    "from numpy import *\n",
    "import matplotlib.pyplot as plt \n",
    "from tqdm import tqdm\n",
    "from sklearn.preprocessing import StandardScaler\n",
    "import numpy as np\n",
    "from sklearn import preprocessing"
   ]
  },
  {
   "cell_type": "code",
   "execution_count": null,
   "metadata": {},
   "outputs": [],
   "source": [
    "X_train_standardized = (X_train - X_train .mean()) / X_train.std()\n",
    "X_test_standardized  = (X_test - X_train.mean()) /  X_train.std()"
   ]
  },
  {
   "cell_type": "code",
   "execution_count": null,
   "metadata": {},
   "outputs": [],
   "source": [
    "def error_function(y_actual,y_predicted):\n",
    "    error = 0\n",
    "    for i in range(0,len(y_actual)):\n",
    "        error =  error + pow((y_actual[i] - y_predicted[i]),2)\n",
    "        return error/(2*len(y_actual))\n",
    "\n",
    "def y_predicted(w,x):\n",
    "    y_pred = np.zeros(len(x))\n",
    "    for i in range(0,len(x)):\n",
    "        for j in range(0,len(w)):\n",
    "            y_pred[i] = y_pred[i]+(w[j]*x[i][j] + w[-1])\n",
    "    return y_pred\n",
    "\n",
    "def gradient_descent(y_actual,y_pred,x):\n",
    "    grad = np.zeros(x.shape[1])\n",
    "    for i in range(x.shape[1]):\n",
    "        for j in range(0,len(y_actual)):\n",
    "            grad[i] = - (y_actual[j] - y_pred[j])*x[j][i] + grad[i]\n",
    "    return grad/len(y_actual)\n",
    "\n",
    "\n",
    "def weights(x_train,y_train,num_iterations,learning_rate):\n",
    "    no_of_rows = x_train.shape[0]\n",
    "    no_of_columns = x_train.shape[1]\n",
    "    new_x_train = np.ones((no_of_rows,no_of_columns+1))\n",
    "    new_x_train[:,0:no_of_columns] = x_train\n",
    "    w = np.zeros(no_of_columns)\n",
    "    w =np.append(w,1)\n",
    "    for i in range(0,num_iterations):\n",
    "        y_pred = y_predicted(w,new_x_train)\n",
    "        error = error_function(y_train,y_pred)\n",
    "        print(\"mean square error: \",error,\"after\",i,\"th iteration\")\n",
    "        MSE_points.append(error)\n",
    "        grad = gradient_descent(y_train,y_pred,new_x_train)\n",
    "        w = w - learning_rate*grad\n",
    "        learning_rate = learning_rate/1.05                                # Learning rate Decay \n",
    "    return w\n",
    "\n",
    "def regression_test(x_test,w):\n",
    "    row = x_test.shape[0]\n",
    "    column = x_test.shape[1]\n",
    "    new_x_test = np.ones((row,column+1))\n",
    "    new_x_test[:,0:column] = x_test\n",
    "    y_pred = y_predicted(w,new_x_test)\n",
    "    return(y_pred)"
   ]
  },
  {
   "cell_type": "code",
   "execution_count": null,
   "metadata": {},
   "outputs": [],
   "source": [
    "MSE_points = []\n",
    "num_iterations = 300\n",
    "learning_rate = 0.1\n",
    "w = weights(X_train_standardized,y_train,num_iterations,learning_rate)\n",
    "Y_pred = regression_test(X_test_standardized,w)\n",
    "error_function(y_test,Y_pred)"
   ]
  },
  {
   "cell_type": "code",
   "execution_count": null,
   "metadata": {},
   "outputs": [],
   "source": [
    "import seaborn as sns\n",
    "plt.figure(figsize=(10,10))\n",
    "plt.plot(range(0,300 ), MSE_points)\n",
    "plt.xlabel('MSE')\n",
    "plt.show()\n",
    "# sns.lineplot(MSE_points)"
   ]
  },
  {
   "cell_type": "code",
   "execution_count": null,
   "metadata": {},
   "outputs": [],
   "source": [
    "pred_df = pd.DataFrame(\n",
    "    {\n",
    "        'Actual Value' : Y_test, \n",
    "     'Predicted Values' : Y_pred,\n",
    "    }\n",
    ")\n",
    "pred_df.head(10)"
   ]
  },
  {
   "cell_type": "code",
   "execution_count": null,
   "metadata": {},
   "outputs": [],
   "source": [
    "\n",
    "plt.scatter(Y_test, Y_pred)\n",
    "# plt.plot([min(X_train), max(X_train)], [min(Y_pred), max(Y_pred)], color='red')\n",
    "\n",
    "plt.xlabel(\"Prices: $Y_i$\")\n",
    "plt.ylabel(\"Predicted prices: $\\hat{Y}_i$\")\n",
    "plt.title(\"Prices vs Predicted prices: $Y_i$ vs $\\hat{Y}_i$\")\n",
    "plt.show()"
   ]
  },
  {
   "cell_type": "code",
   "execution_count": null,
   "metadata": {},
   "outputs": [],
   "source": []
  },
  {
   "cell_type": "code",
   "execution_count": null,
   "metadata": {},
   "outputs": [],
   "source": []
  },
  {
   "cell_type": "code",
   "execution_count": null,
   "metadata": {},
   "outputs": [],
   "source": []
  }
 ],
 "metadata": {
  "kernelspec": {
   "display_name": "Python 3",
   "language": "python",
   "name": "python3"
  },
  "language_info": {
   "codemirror_mode": {
    "name": "ipython",
    "version": 3
   },
   "file_extension": ".py",
   "mimetype": "text/x-python",
   "name": "python",
   "nbconvert_exporter": "python",
   "pygments_lexer": "ipython3",
   "version": "3.8.3"
  }
 },
 "nbformat": 4,
 "nbformat_minor": 4
}
